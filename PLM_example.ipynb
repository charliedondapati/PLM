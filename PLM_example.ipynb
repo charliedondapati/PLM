{
  "nbformat": 4,
  "nbformat_minor": 0,
  "metadata": {
    "colab": {
      "name": "PLM-example.ipynb",
      "provenance": [],
      "collapsed_sections": []
    },
    "kernelspec": {
      "name": "python3",
      "display_name": "Python 3"
    },
    "language_info": {
      "name": "python"
    }
  },
  "cells": [
    {
      "cell_type": "markdown",
      "metadata": {
        "id": "AHqmuErnQ4Ha"
      },
      "source": [
        "### **Installing PLM package**"
      ]
    },
    {
      "cell_type": "code",
      "metadata": {
        "id": "cHwo4Dv4jJJN"
      },
      "source": [
        "!pip install PLM\n"
      ],
      "execution_count": null,
      "outputs": []
    },
    {
      "cell_type": "markdown",
      "metadata": {
        "id": "WS81Se--RO95"
      },
      "source": [
        "### **Process Dataset**\n",
        "\n",
        "\n",
        "*   Target should be output column followed by the label\n",
        "*   Target is preceeded by Input features\n",
        "\n"
      ]
    },
    {
      "cell_type": "code",
      "metadata": {
        "id": "BPRaJrKTkJfY"
      },
      "source": [
        "import pandas as pd\n",
        "import numpy as np\n",
        "\n",
        "df = pd.read_csv('equ23_data.csv', header=None)\n",
        "target = np.array(df[df.columns[[-2, -1]]])\n",
        "data = np.array(df.iloc[:, :-2])"
      ],
      "execution_count": 16,
      "outputs": []
    },
    {
      "cell_type": "markdown",
      "metadata": {
        "id": "zvezzSQhRqSR"
      },
      "source": [
        "\n",
        "\n",
        "---\n",
        "\n",
        "\n",
        "\n",
        "*   pelm() is the wrapper function with calls train and test methods internally.\n",
        "*   The number of epochs can be specified as a parameter, the default is epochs=20.\n",
        "\n"
      ]
    },
    {
      "cell_type": "code",
      "metadata": {
        "colab": {
          "base_uri": "https://localhost:8080/"
        },
        "id": "QCXUa-ujkCUK",
        "outputId": "62100501-8d2b-4769-f61e-ac708465a8d3"
      },
      "source": [
        "from PLM.pelm import pelm\n",
        "\n",
        "n = 10;\n",
        "parameter1 = 10;\n",
        "parameter2 = 10;\n",
        "model_number = 3;\n",
        "\n",
        "pelm(data, target, model_number, n=n, p=parameter1, s=parameter2)"
      ],
      "execution_count": 3,
      "outputs": [
        {
          "output_type": "stream",
          "text": [
            "Execution time:  43.6878502368927  secs\n",
            "Min error:  0.013624696718351184\n",
            "Mean error:  0.14071896365248865\n"
          ],
          "name": "stdout"
        }
      ]
    },
    {
      "cell_type": "markdown",
      "metadata": {
        "id": "_broMY8SSOFe"
      },
      "source": [
        "\n",
        "\n",
        "\n",
        "---\n",
        "\n",
        "\n",
        "*   plm_train() & plm_train() methods can be called seperately from the module\n",
        "*   Dataset should rightly processed for calling the specific functions\n",
        "*   plm_train() & plm_test() methods used BELM(Bi-directional ELM) package internally\n",
        "\n"
      ]
    },
    {
      "cell_type": "code",
      "metadata": {
        "id": "VXKpdSihmvqr"
      },
      "source": [
        "X_train, X_test, Y_train, Y_test = train_test_split(data, target, test_size=0.3)\n",
        "L_train = Y_train[:, -1].reshape(-1, 1)\n",
        "L_test = Y_test[:, -1].reshape(-1, 1)\n",
        "\n",
        "Y_test = Y_test[:, 0].reshape(-1, 1)\n",
        "Y_train = Y_train[:, 0].reshape(-1, 1)"
      ],
      "execution_count": 17,
      "outputs": []
    },
    {
      "cell_type": "code",
      "metadata": {
        "id": "J7PzbYdFnLm8"
      },
      "source": [
        "from PLM.pelm import pelm, plm_train, plm_test\n",
        "\n",
        "n = 10;\n",
        "parameter1 = 10;\n",
        "parameter2 = 10;\n",
        "model_number = 3;\n",
        "\n",
        "d, t, l, rl, net = plm_train(X_train, Y_train, L_train, n=n, s1=parameter1, s2=parameter2, c=model_number);"
      ],
      "execution_count": 24,
      "outputs": []
    },
    {
      "cell_type": "code",
      "metadata": {
        "colab": {
          "base_uri": "https://localhost:8080/"
        },
        "id": "_E2wANW-nMn6",
        "outputId": "c1337067-9ef6-4ff5-f07f-d0717ca0c8bc"
      },
      "source": [
        "e, svm_acc = plm_test(d, l, X_test, Y_test, L_test, net, c=model_number)\n",
        "print(\"Error(rmse): \",e)"
      ],
      "execution_count": 25,
      "outputs": [
        {
          "output_type": "stream",
          "text": [
            "Error(rmse):  0.06363327438862462\n"
          ],
          "name": "stdout"
        }
      ]
    },
    {
      "cell_type": "markdown",
      "metadata": {
        "id": "l1ZHcEm6Tlt1"
      },
      "source": [
        "### **Bi-directional Extreme Learning Machine**\n",
        "\n",
        "\n",
        "*   Last column should be the  output column \n",
        "*   Output column is preceeded by the input features\n",
        "\n"
      ]
    },
    {
      "cell_type": "code",
      "metadata": {
        "id": "3nMM9AkIkwKx"
      },
      "source": [
        "import pandas as pd\n",
        "import numpy as np\n",
        "from sklearn.model_selection import train_test_split\n",
        "\n",
        "df = pd.read_csv('sample_data.csv', header=None)\n",
        "output = np.array(df[df.columns[-1]])\n",
        "data = np.array(df.iloc[:, :-1])\n",
        "\n",
        "X_train, X_test, Y_train, Y_test = train_test_split(data, output, test_size=0.3)\n",
        "Y_train = Y_train.reshape(-1, 1)\n",
        "Y_test = Y_test.reshape(-1, 1)"
      ],
      "execution_count": 5,
      "outputs": []
    },
    {
      "cell_type": "code",
      "metadata": {
        "colab": {
          "base_uri": "https://localhost:8080/"
        },
        "id": "UaBYNlljlY4l",
        "outputId": "aa4b8759-f1d3-4c5e-bb77-1be0ff4bee03"
      },
      "source": [
        "from BELM.belm import BELM\n",
        "\n",
        "belm = BELM(X_train.shape[1], Y_train.shape[1], precision=\"single\")\n",
        "belm.add_neurons(2, 'sigm')\n",
        "belm.train(X_train, Y_train)\n",
        "yhat = belm.predict(X_test)\n",
        "e = belm.error(Y_test, yhat)\n",
        "print(\"Error(rmse):\",e)"
      ],
      "execution_count": 13,
      "outputs": [
        {
          "output_type": "stream",
          "text": [
            "Error(rmse) = 0.13198138049742777\n"
          ],
          "name": "stdout"
        }
      ]
    },
    {
      "cell_type": "code",
      "metadata": {
        "id": "Piw9yax8lwfP"
      },
      "source": [
        ""
      ],
      "execution_count": null,
      "outputs": []
    }
  ]
}